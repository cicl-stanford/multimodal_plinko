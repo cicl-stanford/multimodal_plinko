{
 "cells": [
  {
   "cell_type": "code",
   "execution_count": 4,
   "metadata": {},
   "outputs": [],
   "source": [
    "import numpy as np\n",
    "import pandas as pd\n",
    "import json\n",
    "import os"
   ]
  },
  {
   "cell_type": "code",
   "execution_count": 5,
   "metadata": {},
   "outputs": [],
   "source": [
    "with open(\"../../../../data/human_data/inference/experiment_1/out1.json\", \"r\") as f:\n",
    "    data = json.load(f)"
   ]
  },
  {
   "cell_type": "code",
   "execution_count": 6,
   "metadata": {},
   "outputs": [
    {
     "data": {
      "text/plain": [
       "{'gender': 'female',\n",
       " 'age': '44',\n",
       " 'race': 'asian',\n",
       " 'fname': 'Shana',\n",
       " 'date': '7/1/2019',\n",
       " 'ethnicity': 'non hispanic'}"
      ]
     },
     "execution_count": 6,
     "metadata": {},
     "output_type": "execute_result"
    }
   ],
   "source": [
    "data[\"demographics\"]"
   ]
  },
  {
   "cell_type": "code",
   "execution_count": 7,
   "metadata": {},
   "outputs": [],
   "source": [
    "path = \"../../../../data/human_data/inference/experiment_1/\"\n",
    "data_files = [file for file in os.listdir(path) if file.endswith(\".json\")]"
   ]
  },
  {
   "cell_type": "code",
   "execution_count": 8,
   "metadata": {},
   "outputs": [
    {
     "data": {
      "text/plain": [
       "'22'"
      ]
     },
     "execution_count": 8,
     "metadata": {},
     "output_type": "execute_result"
    }
   ],
   "source": [
    "data_files[0][3:-5]"
   ]
  },
  {
   "cell_type": "code",
   "execution_count": 9,
   "metadata": {},
   "outputs": [],
   "source": [
    "demo_dict = {\n",
    "    \"condition\": [],\n",
    "    \"participant\": [],\n",
    "    \"age\": [],\n",
    "    \"gender\": [],\n",
    "    \"race\": []\n",
    "}\n",
    "\n",
    "path = \"../../../../data/human_data/inference/experiment_\"\n",
    "# data_files = [file for file in os.listdir(path) if file.endswith(\".json\")]\n",
    "\n",
    "for i, exp in enumerate([\"vision\", \"audio\", \"occluded\"]):\n",
    "    exp_path = path + str(i + 1) + \"/\"\n",
    "    data_files = [file for file in os.listdir(exp_path) if file.endswith(\".json\")]\n",
    "\n",
    "    for file in data_files:\n",
    "        part_num = int(file[3:-5])\n",
    "        with open(exp_path + file, \"r\") as f:\n",
    "            data = json.load(f)\n",
    "\n",
    "        part_demo = data[\"demographics\"]\n",
    "        demo_dict[\"condition\"].append(exp)\n",
    "        demo_dict[\"participant\"].append(part_num)\n",
    "        demo_dict[\"age\"].append(part_demo[\"age\"])\n",
    "        demo_dict[\"gender\"].append(part_demo[\"gender\"])\n",
    "        demo_dict[\"race\"].append(part_demo[\"race\"])\n"
   ]
  },
  {
   "cell_type": "code",
   "execution_count": 10,
   "metadata": {},
   "outputs": [],
   "source": [
    "df_demo = pd.DataFrame(demo_dict)\n",
    "df_demo[\"condition\"] = pd.Categorical(df_demo[\"condition\"], categories=[\"vision\", \"audio\", \"occluded\"], ordered=True)\n",
    "df_demo = df_demo.sort_values(by=[\"condition\", \"participant\"])\n",
    "\n",
    "error_row = df_demo[\"age\"] == \"\"\n",
    "df_demo.loc[error_row, [\"age\", \"race\"]] = df_demo.loc[error_row, [\"race\", \"age\"]].values\n",
    "\n",
    "df_demo[\"age\"] = df_demo[\"age\"].astype(int)\n",
    "df_demo[\"gender\"] = df_demo[\"gender\"].str.lower().str.strip()\n",
    "df_demo[\"race\"] = df_demo[\"race\"].str.lower().str.strip()"
   ]
  },
  {
   "cell_type": "code",
   "execution_count": 11,
   "metadata": {},
   "outputs": [
    {
     "data": {
      "text/html": [
       "<div>\n",
       "<style scoped>\n",
       "    .dataframe tbody tr th:only-of-type {\n",
       "        vertical-align: middle;\n",
       "    }\n",
       "\n",
       "    .dataframe tbody tr th {\n",
       "        vertical-align: top;\n",
       "    }\n",
       "\n",
       "    .dataframe thead th {\n",
       "        text-align: right;\n",
       "    }\n",
       "</style>\n",
       "<table border=\"1\" class=\"dataframe\">\n",
       "  <thead>\n",
       "    <tr style=\"text-align: right;\">\n",
       "      <th></th>\n",
       "      <th>condition</th>\n",
       "      <th>participant</th>\n",
       "      <th>age</th>\n",
       "      <th>gender</th>\n",
       "      <th>race</th>\n",
       "    </tr>\n",
       "  </thead>\n",
       "  <tbody>\n",
       "    <tr>\n",
       "      <th>19</th>\n",
       "      <td>vision</td>\n",
       "      <td>1</td>\n",
       "      <td>44</td>\n",
       "      <td>female</td>\n",
       "      <td>asian</td>\n",
       "    </tr>\n",
       "    <tr>\n",
       "      <th>16</th>\n",
       "      <td>vision</td>\n",
       "      <td>2</td>\n",
       "      <td>22</td>\n",
       "      <td>female</td>\n",
       "      <td>asian</td>\n",
       "    </tr>\n",
       "    <tr>\n",
       "      <th>11</th>\n",
       "      <td>vision</td>\n",
       "      <td>3</td>\n",
       "      <td>21</td>\n",
       "      <td>male</td>\n",
       "      <td>asian</td>\n",
       "    </tr>\n",
       "    <tr>\n",
       "      <th>6</th>\n",
       "      <td>vision</td>\n",
       "      <td>4</td>\n",
       "      <td>21</td>\n",
       "      <td>male</td>\n",
       "      <td>mexican</td>\n",
       "    </tr>\n",
       "    <tr>\n",
       "      <th>3</th>\n",
       "      <td>vision</td>\n",
       "      <td>5</td>\n",
       "      <td>23</td>\n",
       "      <td>male</td>\n",
       "      <td>white</td>\n",
       "    </tr>\n",
       "    <tr>\n",
       "      <th>...</th>\n",
       "      <td>...</td>\n",
       "      <td>...</td>\n",
       "      <td>...</td>\n",
       "      <td>...</td>\n",
       "      <td>...</td>\n",
       "    </tr>\n",
       "    <tr>\n",
       "      <th>80</th>\n",
       "      <td>occluded</td>\n",
       "      <td>26</td>\n",
       "      <td>18</td>\n",
       "      <td>female</td>\n",
       "      <td>multiracial</td>\n",
       "    </tr>\n",
       "    <tr>\n",
       "      <th>82</th>\n",
       "      <td>occluded</td>\n",
       "      <td>27</td>\n",
       "      <td>18</td>\n",
       "      <td>male</td>\n",
       "      <td>mixed</td>\n",
       "    </tr>\n",
       "    <tr>\n",
       "      <th>70</th>\n",
       "      <td>occluded</td>\n",
       "      <td>28</td>\n",
       "      <td>18</td>\n",
       "      <td>female</td>\n",
       "      <td>black</td>\n",
       "    </tr>\n",
       "    <tr>\n",
       "      <th>77</th>\n",
       "      <td>occluded</td>\n",
       "      <td>29</td>\n",
       "      <td>18</td>\n",
       "      <td>female</td>\n",
       "      <td>white</td>\n",
       "    </tr>\n",
       "    <tr>\n",
       "      <th>81</th>\n",
       "      <td>occluded</td>\n",
       "      <td>30</td>\n",
       "      <td>20</td>\n",
       "      <td>female</td>\n",
       "      <td>asian</td>\n",
       "    </tr>\n",
       "  </tbody>\n",
       "</table>\n",
       "<p>90 rows × 5 columns</p>\n",
       "</div>"
      ],
      "text/plain": [
       "   condition  participant  age  gender         race\n",
       "19    vision            1   44  female        asian\n",
       "16    vision            2   22  female        asian\n",
       "11    vision            3   21    male        asian\n",
       "6     vision            4   21    male      mexican\n",
       "3     vision            5   23    male        white\n",
       "..       ...          ...  ...     ...          ...\n",
       "80  occluded           26   18  female  multiracial\n",
       "82  occluded           27   18    male        mixed\n",
       "70  occluded           28   18  female        black\n",
       "77  occluded           29   18  female        white\n",
       "81  occluded           30   20  female        asian\n",
       "\n",
       "[90 rows x 5 columns]"
      ]
     },
     "execution_count": 11,
     "metadata": {},
     "output_type": "execute_result"
    }
   ],
   "source": [
    "df_demo"
   ]
  },
  {
   "cell_type": "code",
   "execution_count": 12,
   "metadata": {},
   "outputs": [
    {
     "data": {
      "text/plain": [
       "(24.0, 8.0)"
      ]
     },
     "execution_count": 12,
     "metadata": {},
     "output_type": "execute_result"
    }
   ],
   "source": [
    "mean_age = np.round(df_demo['age'].mean())\n",
    "std_age = np.round(df_demo['age'].std())\n",
    "\n",
    "mean_age, std_age"
   ]
  },
  {
   "cell_type": "code",
   "execution_count": 15,
   "metadata": {},
   "outputs": [
    {
     "data": {
      "text/plain": [
       "gender\n",
       "female    47\n",
       "male      37\n",
       "f          4\n",
       "m          2\n",
       "Name: count, dtype: int64"
      ]
     },
     "execution_count": 15,
     "metadata": {},
     "output_type": "execute_result"
    }
   ],
   "source": [
    "gender_counts = df_demo['gender'].value_counts()\n",
    "race_counts = df_demo['race'].value_counts()\n",
    "\n",
    "gender_counts"
   ]
  },
  {
   "cell_type": "code",
   "execution_count": 29,
   "metadata": {},
   "outputs": [
    {
     "data": {
      "text/plain": [
       "race\n",
       "white                           28\n",
       "asian                           25\n",
       "caucasian                        5\n",
       "black                            2\n",
       "south asian                      2\n",
       "pacific islander                 2\n",
       "chinese                          2\n",
       "american                         1\n",
       "chinese/white                    1\n",
       "multiracial                      1\n",
       "latina/chicana                   1\n",
       "mixed, black and white           1\n",
       "asian american                   1\n",
       "asian indian                     1\n",
       "mixed (japanese and british)     1\n",
       "white/caucasian                  1\n",
       "filipino                         1\n",
       "african american/black           1\n",
       "                                 1\n",
       "aisan                            1\n",
       "w                                1\n",
       "european/southeast-asian         1\n",
       "korean                           1\n",
       "mexican                          1\n",
       "indian (asian)                   1\n",
       "ashia                            1\n",
       "black/ african american          1\n",
       "pakistani                        1\n",
       "hispanic                         1\n",
       "east asian                       1\n",
       "mixed                            1\n",
       "Name: count, dtype: int64"
      ]
     },
     "execution_count": 29,
     "metadata": {},
     "output_type": "execute_result"
    }
   ],
   "source": [
    "race_counts"
   ]
  },
  {
   "cell_type": "code",
   "execution_count": 31,
   "metadata": {},
   "outputs": [],
   "source": [
    "race_counts_dict = race_counts.to_dict()\n",
    "race_counts_dict\n",
    "\n",
    "race_consolidate = {\n",
    "    \"white\": race_counts_dict[\"white\"] + race_counts_dict[\"caucasian\"] + race_counts_dict[\"white/caucasian\"] + race_counts_dict[\"w\"],\n",
    "    \"black\": race_counts_dict[\"black\"] + race_counts_dict[\"african american/black\"] + race_counts_dict[\"black/ african american\"],\n",
    "    \"asian\": race_counts_dict[\"asian\"] + race_counts_dict[\"south asian\"] + race_counts_dict[\"chinese\"] + race_counts_dict[\"asian american\"] + race_counts_dict[\"asian indian\"] + race_counts_dict[\"filipino\"] + race_counts_dict[\"aisan\"] + race_counts_dict[\"korean\"] + race_counts_dict[\"indian (asian)\"] + race_counts_dict[\"ashia\"] + race_counts_dict[\"pakistani\"] + race_counts_dict[\"east asian\"],\n",
    "    \"american_indian\": 0,\n",
    "    \"pacific_islander\": race_counts_dict[\"pacific islander\"],\n",
    "    \"multiracial\": race_counts_dict[\"chinese/white\"] + race_counts_dict[\"multiracial\"] + race_counts_dict[\"mixed, black and white\"] + race_counts_dict[\"mixed (japanese and british)\"] + race_counts_dict[\"european/southeast-asian\"] + race_counts_dict[\"mixed\"],\n",
    "    \"other\": race_counts_dict[\"american\"] + race_counts_dict[\"latina/chicana\"] + race_counts_dict[\"\"] + race_counts_dict[\"mexican\"] + race_counts_dict[\"hispanic\"]\n",
    "}"
   ]
  },
  {
   "cell_type": "code",
   "execution_count": 32,
   "metadata": {},
   "outputs": [
    {
     "data": {
      "text/plain": [
       "{'white': 35,\n",
       " 'black': 4,\n",
       " 'asian': 38,\n",
       " 'american_indian': 0,\n",
       " 'pacific_islander': 2,\n",
       " 'multiracial': 6,\n",
       " 'other': 5}"
      ]
     },
     "execution_count": 32,
     "metadata": {},
     "output_type": "execute_result"
    }
   ],
   "source": [
    "race_consolidate"
   ]
  },
  {
   "cell_type": "code",
   "execution_count": 33,
   "metadata": {},
   "outputs": [
    {
     "data": {
      "text/plain": [
       "90"
      ]
     },
     "execution_count": 33,
     "metadata": {},
     "output_type": "execute_result"
    }
   ],
   "source": [
    "np.sum(list(race_consolidate.values()))"
   ]
  }
 ],
 "metadata": {
  "kernelspec": {
   "display_name": "plinko",
   "language": "python",
   "name": "python3"
  },
  "language_info": {
   "codemirror_mode": {
    "name": "ipython",
    "version": 3
   },
   "file_extension": ".py",
   "mimetype": "text/x-python",
   "name": "python",
   "nbconvert_exporter": "python",
   "pygments_lexer": "ipython3",
   "version": "3.12.2"
  }
 },
 "nbformat": 4,
 "nbformat_minor": 2
}
