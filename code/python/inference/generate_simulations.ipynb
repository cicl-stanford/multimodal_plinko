{
 "cells": [
  {
   "cell_type": "code",
   "execution_count": null,
   "id": "6c53b5ad",
   "metadata": {},
   "outputs": [
    {
     "name": "stdout",
     "output_type": "stream",
     "text": [
      "pygame 2.5.2 (SDL 2.28.3, Python 3.12.2)\n",
      "Hello from the pygame community. https://www.pygame.org/contribute.html\n"
     ]
    }
   ],
   "source": [
    "import numpy as np\n",
    "import pickle\n",
    "import sys\n",
    "import os\n",
    "import gzip\n",
    "from tqdm import tqdm\n",
    "\n",
    "sys.path.append(os.path.abspath(os.path.join(\"..\")))\n",
    "\n",
    "import engine\n",
    "import utils"
   ]
  },
  {
   "cell_type": "code",
   "execution_count": 3,
   "id": "b5f65645",
   "metadata": {},
   "outputs": [],
   "source": [
    "path = \"stimuli/ground_truth/\"\n",
    "world_files = os.listdir(path)\n",
    "world_numbers = sorted([int(wf[6:-5]) for wf in world_files])"
   ]
  },
  {
   "cell_type": "code",
   "execution_count": 4,
   "id": "e14b8fdb",
   "metadata": {},
   "outputs": [],
   "source": [
    "drop_noise = 0.3\n",
    "col_mean = 0.0\n",
    "col_sd = 0.7"
   ]
  },
  {
   "cell_type": "code",
   "execution_count": 5,
   "id": "7803849b",
   "metadata": {},
   "outputs": [],
   "source": [
    "worlds = []\n",
    "\n",
    "for world_num in world_numbers:\n",
    "    world = utils.load_trial(world_num, drop_noise=drop_noise, col_mean=col_mean, col_sd=col_sd)\n",
    "    worlds.append((world_num, world))"
   ]
  },
  {
   "cell_type": "code",
   "execution_count": null,
   "id": "e43161df",
   "metadata": {},
   "outputs": [],
   "source": [
    "np.random.seed(1)\n",
    "nsims = 1000\n",
    "saved_sims = {}\n",
    "\n",
    "for world_num, world in tqdm(worlds):\n",
    "    # print(\"World\", world_num)\n",
    "    world_sims = []\n",
    "    for hole in [0,1,2]:\n",
    "        world[\"hole_dropped_into\"] = hole\n",
    "        hole_sims = []\n",
    "        for i in range(nsims):\n",
    "            sim = engine.run_simulation(world, convert_coordinates=True)\n",
    "            hole_sims.append(sim)\n",
    "        world_sims.append(hole_sims)\n",
    "    saved_sims[world_num] = world_sims"
   ]
  },
  {
   "cell_type": "code",
   "execution_count": null,
   "id": "54dfe1b1",
   "metadata": {},
   "outputs": [],
   "source": [
    "saved_sims_sum = {}\n",
    "for world_num, sims in saved_sims.items():\n",
    "    world_sum = []\n",
    "    for hole in [0,1,2]:\n",
    "        hole_sims = sims[hole]\n",
    "        hole_sum = []\n",
    "        for sim in hole_sims:\n",
    "            sim_sum = {}\n",
    "            sim_sum[\"drop\"] = sim[\"drop\"]\n",
    "            sim_sum[\"collisions\"] = sim[\"collisions\"]\n",
    "            sim_sum[\"ball_position\"] = [sim[\"ball_position\"][-1]]\n",
    "            hole_sum.append(sim_sum)\n",
    "        world_sum.append(hole_sum)\n",
    "    saved_sims_sum[world_num] = world_sum"
   ]
  },
  {
   "cell_type": "code",
   "execution_count": null,
   "id": "cf3ad8d1",
   "metadata": {},
   "outputs": [],
   "source": [
    "with gzip.open(\"saved_sims/saved_sims_sum_nsims_1000_drop_noise_0.3_col_mean_0.0_col_sd_0.7.gz\", \"wb\") as gz_file:\n",
    "    pickle.dump(saved_sims_sum, gz_file)"
   ]
  }
 ],
 "metadata": {
  "kernelspec": {
   "display_name": "plinko",
   "language": "python",
   "name": "python3"
  },
  "language_info": {
   "codemirror_mode": {
    "name": "ipython",
    "version": 3
   },
   "file_extension": ".py",
   "mimetype": "text/x-python",
   "name": "python",
   "nbconvert_exporter": "python",
   "pygments_lexer": "ipython3",
   "version": "3.12.2"
  }
 },
 "nbformat": 4,
 "nbformat_minor": 5
}
