{
 "cells": [
  {
   "cell_type": "code",
   "execution_count": null,
   "metadata": {},
   "outputs": [
    {
     "name": "stdout",
     "output_type": "stream",
     "text": [
      "pygame 2.5.2 (SDL 2.28.3, Python 3.12.2)\n",
      "Hello from the pygame community. https://www.pygame.org/contribute.html\n"
     ]
    }
   ],
   "source": [
    "import numpy as np\n",
    "import pandas as pd\n",
    "from itertools import product\n",
    "from tqdm import tqdm\n",
    "import os\n",
    "import sys\n",
    "\n",
    "sys.path.append(os.path.abspath(os.path.join(\"..\")))\n",
    "\n",
    "import engine\n",
    "import utils"
   ]
  },
  {
   "cell_type": "code",
   "execution_count": 6,
   "metadata": {},
   "outputs": [],
   "source": [
    "world_nums = sorted([int(file[6:-5]) for file in os.listdir(\"json\")])\n",
    "noise_range = np.arange(0.0, 1.1, 0.1)"
   ]
  },
  {
   "cell_type": "code",
   "execution_count": 14,
   "metadata": {},
   "outputs": [
    {
     "data": {
      "text/plain": [
       "1221"
      ]
     },
     "execution_count": 14,
     "metadata": {},
     "output_type": "execute_result"
    }
   ],
   "source": [
    "full_grid = list(product(noise_range, noise_range, noise_range))\n",
    "full_grid = [(np.round(x, 1), np.round(y, 1), np.round(z, 1)) for x, y, z in full_grid]\n",
    "# remove parameters where there is no collision noise, but the col mean is not 1.0\n",
    "full_grid = [parset for parset in full_grid if not (parset[2] == 0.0 and parset[1] != 1.0)]\n",
    "len(full_grid)\n"
   ]
  },
  {
   "cell_type": "code",
   "execution_count": 52,
   "metadata": {},
   "outputs": [],
   "source": [
    "def run_sims(drop_noise, col_mean, col_sd, sims=100, world_nums=world_nums, print_prog=False):\n",
    "\n",
    "    out_dict = {\n",
    "        \"world\": [],\n",
    "        \"hole\": [],\n",
    "        \"sim\": [],\n",
    "        \"x_pos\": []\n",
    "    }\n",
    "\n",
    "    for world_num in world_nums:\n",
    "        if print_prog:\n",
    "            print(\"World\", world_num)\n",
    "            \n",
    "        for hole in [1,2,3]:\n",
    "            world = utils.load_trial(world_num, \n",
    "                                     experiment=\"prediction\", \n",
    "                                     hole=hole, \n",
    "                                     drop_noise=drop_noise, \n",
    "                                     col_mean=col_mean, \n",
    "                                     col_sd=col_sd)\n",
    "            \n",
    "            world[\"hole_dropped_into\"] = hole-1\n",
    "            \n",
    "            for sim in range(sims):\n",
    "                sim_data = engine.run_simulation(world, convert_coordinates=True)\n",
    "                x_pos = sim_data[\"ball_position\"][-1][\"x\"]\n",
    "\n",
    "                out_dict[\"world\"].append(world_num)\n",
    "                out_dict[\"hole\"].append(hole)\n",
    "                out_dict[\"sim\"].append(sim)\n",
    "                out_dict[\"x_pos\"].append(x_pos)\n",
    "\n",
    "    return pd.DataFrame(out_dict)"
   ]
  },
  {
   "cell_type": "code",
   "execution_count": null,
   "metadata": {},
   "outputs": [],
   "source": [
    "for parset in tqdm(full_grid):\n",
    "    drop_noise, col_mean, col_sd = parset\n",
    "    df = run_sims(drop_noise, col_mean, col_sd)\n",
    "    df.to_csv(f\"grid_search/prediction_{drop_noise}_drop_noise_{col_mean}_col_mean_{col_sd}_col_sd_100_sims.csv\", index=False)"
   ]
  }
 ],
 "metadata": {
  "kernelspec": {
   "display_name": "plinko",
   "language": "python",
   "name": "python3"
  },
  "language_info": {
   "codemirror_mode": {
    "name": "ipython",
    "version": 3
   },
   "file_extension": ".py",
   "mimetype": "text/x-python",
   "name": "python",
   "nbconvert_exporter": "python",
   "pygments_lexer": "ipython3",
   "version": "3.12.2"
  }
 },
 "nbformat": 4,
 "nbformat_minor": 2
}
