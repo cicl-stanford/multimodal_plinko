{
 "cells": [
  {
   "cell_type": "code",
   "execution_count": 1,
   "id": "7bd5cd7e",
   "metadata": {},
   "outputs": [
    {
     "name": "stdout",
     "output_type": "stream",
     "text": [
      "pygame 2.5.2 (SDL 2.28.3, Python 3.12.2)\n",
      "Hello from the pygame community. https://www.pygame.org/contribute.html\n"
     ]
    }
   ],
   "source": [
    "import pickle\n",
    "import numpy as np\n",
    "from tqdm import tqdm\n",
    "import sys\n",
    "import os\n",
    "\n",
    "sys.path.append(os.path.abspath(os.path.join(\"..\")))\n",
    "\n",
    "import engine\n",
    "import config\n",
    "import visual"
   ]
  },
  {
   "cell_type": "code",
   "execution_count": null,
   "id": "a74e3538",
   "metadata": {},
   "outputs": [],
   "source": [
    "def generate_worlds(num_worlds, name):\n",
    "    worlds = []\n",
    "\n",
    "    for _ in tqdm(range(num_worlds)):\n",
    "        # generate random world\n",
    "        world = config.get_config()\n",
    "\n",
    "        # Zero noise parameters\n",
    "        world[\"position_noise_sd\"] = {\"triangle\": 0, \"rectangle\": 0, \"pentagon\": 0}\n",
    "        world[\"rotation_noise_sd\"] = {\"triangle\": 0, \"rectangle\": 0, \"pentagon\": 0}\n",
    "        world[\"falling_noise\"] = 0\n",
    "\n",
    "        # Simulate one drop from each hole\n",
    "        final_positions = []\n",
    "        for hole in [0,1,2]:\n",
    "            world[\"hole_dropped_into\"] = hole\n",
    "            sim_data = engine.run_simulation(world, convert_coordinates=True)\n",
    "            final_pos = sim_data[\"ball_position\"][-1]\n",
    "            final_x = final_pos[\"x\"]\n",
    "            final_positions.append(final_x)\n",
    "\n",
    "        # Transform the trial to unity coordinates\n",
    "        unity_world = visual.unity_transform_trial(world)\n",
    "        worlds.append({\"world\": unity_world, \"final_positions\": final_positions})\n",
    "\n",
    "    with open(f\"saved_sims/{name}_phys_worlds.pkl\", \"wb\") as f:\n",
    "        pickle.dump(worlds, f)"
   ]
  },
  {
   "cell_type": "markdown",
   "id": "77e78210",
   "metadata": {},
   "source": [
    "### Generate Train Worlds"
   ]
  },
  {
   "cell_type": "code",
   "execution_count": 3,
   "id": "dc9f45f3",
   "metadata": {},
   "outputs": [
    {
     "name": "stderr",
     "output_type": "stream",
     "text": [
      "100%|██████████| 30000/30000 [12:33<00:00, 39.83it/s]\n"
     ]
    }
   ],
   "source": [
    "np.random.seed(1)\n",
    "generate_worlds(30000, \"train\")"
   ]
  },
  {
   "cell_type": "markdown",
   "id": "a0eb5959",
   "metadata": {},
   "source": [
    "### Gnerate Validation Worlds"
   ]
  },
  {
   "cell_type": "code",
   "execution_count": 4,
   "id": "b0101b88",
   "metadata": {},
   "outputs": [
    {
     "name": "stderr",
     "output_type": "stream",
     "text": [
      "100%|██████████| 5000/5000 [02:07<00:00, 39.25it/s]\n"
     ]
    }
   ],
   "source": [
    "np.random.seed(2)\n",
    "generate_worlds(5000, \"val\")"
   ]
  }
 ],
 "metadata": {
  "kernelspec": {
   "display_name": "plinko",
   "language": "python",
   "name": "python3"
  },
  "language_info": {
   "codemirror_mode": {
    "name": "ipython",
    "version": 3
   },
   "file_extension": ".py",
   "mimetype": "text/x-python",
   "name": "python",
   "nbconvert_exporter": "python",
   "pygments_lexer": "ipython3",
   "version": "3.12.2"
  }
 },
 "nbformat": 4,
 "nbformat_minor": 5
}
